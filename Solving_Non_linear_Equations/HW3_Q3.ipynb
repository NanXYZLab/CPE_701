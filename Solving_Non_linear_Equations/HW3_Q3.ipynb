{
 "cells": [
  {
   "cell_type": "code",
   "execution_count": null,
   "id": "2940b4cf-9b94-49bb-8342-abc659a0fe31",
   "metadata": {},
   "outputs": [],
   "source": [
    "import numpy as np\n",
    "from scipy.optimize import least_squares\n",
    "\n",
    "# System of equations\n",
    "def fun(vars):\n",
    "    x, y, z = vars\n",
    "    return [\n",
    "        f1,\n",
    "        f2,\n",
    "        f3\n",
    "    ]\n",
    "\n",
    "\n",
    "def jac(vars):\n",
    "    x, y, z = vars\n",
    "    return np.array([\n",
    "        [∂f1/∂x, ∂f1/∂y, ∂f1/∂z],           \n",
    "        [∂f2/∂x, ∂f2/∂y, ∂f2/∂z],       \n",
    "        [∂f3/∂x, ∂f3/∂y, ∂f3/∂z]    \n",
    "    ])\n",
    "\n",
    "res1 = least_squares(fun, [1,1,1], jac=jac, method='lm')\n",
    "res2 = least_squares(fun, [1,1,1], jac=jac, method='dogbox')  # Dog-Leg\n",
    "\n",
    "\n",
    "print(\"=== Levenberg–Marquardt ===\")\n",
    "print(\"Solution:\", res1.x)\n",
    "print(\"Residuals:\", res1.fun)\n",
    "print(\"Residual norm:\", np.linalg.norm(res1.fun))\n",
    "print(\"Iterations (function evals):\", res1.nfev)\n",
    "\n",
    "print(\"\\n=== Dog-Leg ===\")\n",
    "print(\"Solution:\", res2.x)\n",
    "print(\"Residuals:\", res2.fun)\n",
    "print(\"Residual norm:\", np.linalg.norm(res2.fun))\n",
    "print(\"Iterations (function evals):\", res2.nfev)"
   ]
  },
  {
   "cell_type": "code",
   "execution_count": null,
   "id": "e477c622-6197-4adc-ac1d-188e811d065b",
   "metadata": {},
   "outputs": [],
   "source": []
  }
 ],
 "metadata": {
  "kernelspec": {
   "display_name": "Python 3 (ipykernel)",
   "language": "python",
   "name": "python3"
  },
  "language_info": {
   "codemirror_mode": {
    "name": "ipython",
    "version": 3
   },
   "file_extension": ".py",
   "mimetype": "text/x-python",
   "name": "python",
   "nbconvert_exporter": "python",
   "pygments_lexer": "ipython3",
   "version": "3.9.12"
  }
 },
 "nbformat": 4,
 "nbformat_minor": 5
}
