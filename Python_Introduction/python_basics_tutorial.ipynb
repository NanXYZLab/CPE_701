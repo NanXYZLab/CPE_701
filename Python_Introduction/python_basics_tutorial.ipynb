{
 "cells": [
  {
   "cell_type": "markdown",
   "id": "5ff3ea9b",
   "metadata": {},
   "source": [
    "# Python Basics: A Hands‑On Tutorial (Jupyter Notebook)\n",
    "\n",
    "*A compact, practice-first Python intro inspired by the core topics from the video linked in your request.*\n",
    "\n",
    "> Tip: Run a cell with **Shift+Enter**. Edit any cell and re-run to experiment."
   ]
  },
  {
   "cell_type": "markdown",
   "id": "82aa4e31",
   "metadata": {},
   "source": [
    "## 1) Hello, Python\n",
    "\n",
    "The classic first program is printing a message."
   ]
  },
  {
   "cell_type": "code",
   "execution_count": 1,
   "id": "9db759cc",
   "metadata": {},
   "outputs": [
    {
     "name": "stdout",
     "output_type": "stream",
     "text": [
      "Hello, world!\n"
     ]
    }
   ],
   "source": [
    "print(\"Hello, world!\")"
   ]
  },
  {
   "cell_type": "markdown",
   "id": "5233538e",
   "metadata": {},
   "source": [
    "### Variables & Basic Types\n",
    "Python variables are created by assignment. Types are dynamic (no need to declare)."
   ]
  },
  {
   "cell_type": "code",
   "execution_count": null,
   "id": "0fc9abf4",
   "metadata": {},
   "outputs": [],
   "source": [
    "name = \"Ada\"\n",
    "age = 31\n",
    "height_m = 1.70\n",
    "is_engineer = True\n",
    "\n",
    "print(type(name), type(age), type(height_m), type(is_engineer))"
   ]
  },
  {
   "cell_type": "markdown",
   "id": "d8eeaee8",
   "metadata": {},
   "source": [
    "### Type Conversion\n",
    "Convert between types with constructors: `int()`, `float()`, `str()`, `bool()`."
   ]
  },
  {
   "cell_type": "code",
   "execution_count": null,
   "id": "8dc0a9c0",
   "metadata": {},
   "outputs": [],
   "source": [
    "pi_str = \"3.14159\"\n",
    "pi = float(pi_str)\n",
    "radius = 2\n",
    "area = pi * radius ** 2\n",
    "area_str = str(area)\n",
    "area, area_str"
   ]
  },
  {
   "cell_type": "markdown",
   "id": "2ad5e144",
   "metadata": {},
   "source": [
    "## 2) Strings\n",
    "Work with text using `str`. Common operations include slicing and methods."
   ]
  },
  {
   "cell_type": "code",
   "execution_count": null,
   "id": "db80b721",
   "metadata": {},
   "outputs": [],
   "source": [
    "s = \"Python makes me happy\"\n",
    "print(s[:6])      # slice\n",
    "print(s.upper())  # method\n",
    "print(s.replace(\"happy\", \"productive\"))\n",
    "print(\"words:\", s.split())  # split into list of words\n",
    "\n",
    "# f-strings for formatting\n",
    "thing = \"Python\"\n",
    "why = \"fun\"\n",
    "print(f\"Learning {thing} is {why}!\")"
   ]
  },
  {
   "cell_type": "markdown",
   "id": "8b179dda",
   "metadata": {},
   "source": [
    "## 3) Numbers & Operators\n",
    "- Arithmetic: `+ - * / // % **`\n",
    "- Comparisons: `== != < <= > >=`\n",
    "- Logical: `and or not`"
   ]
  },
  {
   "cell_type": "code",
   "execution_count": null,
   "id": "3cdb4923",
   "metadata": {},
   "outputs": [],
   "source": [
    "a, b = 7, 3\n",
    "print(\"add:\", a + b)\n",
    "print(\"div:\", a / b)\n",
    "print(\"floor div:\", a // b)\n",
    "print(\"mod:\", a % b)\n",
    "print(\"power:\", a ** b)\n",
    "print(\"compare:\", a > b, a == b)\n",
    "print(\"logic:\", (a > 0) and (b > 0))"
   ]
  },
  {
   "cell_type": "markdown",
   "id": "9b123ce2",
   "metadata": {},
   "source": [
    "## 4) Collections: Lists, Tuples, Sets, Dicts\n",
    "- **List**: ordered, mutable\n",
    "- **Tuple**: ordered, immutable\n",
    "- **Set**: unordered, unique items\n",
    "- **Dict**: key → value mapping"
   ]
  },
  {
   "cell_type": "code",
   "execution_count": null,
   "id": "dae53a33",
   "metadata": {},
   "outputs": [],
   "source": [
    "# List\n",
    "nums = [10, 20, 30]\n",
    "nums.append(40)\n",
    "nums[1] = 22\n",
    "nums, len(nums), nums[-1]\n"
   ]
  },
  {
   "cell_type": "code",
   "execution_count": null,
   "id": "4fbc827f",
   "metadata": {},
   "outputs": [],
   "source": [
    "# Tuple (immutable)\n",
    "pt = (3, 4)\n",
    "x, y = pt  # unpacking\n",
    "x, y"
   ]
  },
  {
   "cell_type": "code",
   "execution_count": null,
   "id": "a6c893b9",
   "metadata": {},
   "outputs": [],
   "source": [
    "# Set (unique elements)\n",
    "a = {1, 2, 3}\n",
    "b = {3, 4, 5}\n",
    "a.union(b), a.intersection(b), a - b"
   ]
  },
  {
   "cell_type": "code",
   "execution_count": null,
   "id": "25a09165",
   "metadata": {},
   "outputs": [],
   "source": [
    "# Dict (mapping)\n",
    "person = {\"name\": \"Ada\", \"age\": 31}\n",
    "person[\"city\"] = \"London\"\n",
    "list(person.items())"
   ]
  },
  {
   "cell_type": "markdown",
   "id": "21fcc563",
   "metadata": {},
   "source": [
    "## 5) Control Flow: `if`, `for`, `while`\n",
    "Use conditions and loops to control execution."
   ]
  },
  {
   "cell_type": "code",
   "execution_count": null,
   "id": "b1c7ae5c",
   "metadata": {},
   "outputs": [],
   "source": [
    "temperature = 28\n",
    "if temperature > 30:\n",
    "    status = \"hot\"\n",
    "elif temperature >= 20:\n",
    "    status = \"pleasant\"\n",
    "else:\n",
    "    status = \"cool\"\n",
    "status"
   ]
  },
  {
   "cell_type": "code",
   "execution_count": null,
   "id": "663ac6ec",
   "metadata": {},
   "outputs": [],
   "source": [
    "# for-loop\n",
    "squares = []\n",
    "for n in range(5):\n",
    "    squares.append(n*n)\n",
    "squares"
   ]
  },
  {
   "cell_type": "code",
   "execution_count": null,
   "id": "134a2ad9",
   "metadata": {},
   "outputs": [],
   "source": [
    "# while-loop with break/continue\n",
    "n = 0\n",
    "evens_under_10 = []\n",
    "while True:\n",
    "    n += 1\n",
    "    if n % 2 != 0:\n",
    "        continue\n",
    "    evens_under_10.append(n)\n",
    "    if n >= 10:\n",
    "        break\n",
    "evens_under_10"
   ]
  },
  {
   "cell_type": "markdown",
   "id": "f1ef1dce",
   "metadata": {},
   "source": [
    "## 6) Functions\n",
    "Wrap reusable logic in functions. Use docstrings to explain behavior."
   ]
  },
  {
   "cell_type": "code",
   "execution_count": null,
   "id": "eb438b96",
   "metadata": {},
   "outputs": [],
   "source": [
    "def greet(name: str = \"world\") -> str:\n",
    "    \"\"\"Return a friendly greeting.\"\"\"\n",
    "    return f\"Hello, {name}!\"\n",
    "\n",
    "greet(), greet(\"Yiling\")"
   ]
  },
  {
   "cell_type": "code",
   "execution_count": null,
   "id": "b5544bba",
   "metadata": {},
   "outputs": [],
   "source": [
    "def factorial(n: int) -> int:\n",
    "    \"\"\"Compute n! for n >= 0.\"\"\"\n",
    "    if n < 0:\n",
    "        raise ValueError(\"n must be non-negative\")\n",
    "    result = 1\n",
    "    for k in range(2, n+1):\n",
    "        result *= k\n",
    "    return result\n",
    "\n",
    "[factorial(k) for k in range(6)]"
   ]
  },
  {
   "cell_type": "markdown",
   "id": "1d56e5c7",
   "metadata": {},
   "source": [
    "## 7) Exceptions (Try/Except)\n",
    "Handle errors gracefully instead of crashing the program."
   ]
  },
  {
   "cell_type": "code",
   "execution_count": null,
   "id": "7f6593b8",
   "metadata": {},
   "outputs": [],
   "source": [
    "def safe_divide(a, b):\n",
    "    try:\n",
    "        return a / b\n",
    "    except ZeroDivisionError:\n",
    "        return float('inf')  # or handle another way\n",
    "\n",
    "safe_divide(10, 2), safe_divide(5, 0)"
   ]
  },
  {
   "cell_type": "markdown",
   "id": "03e98654",
   "metadata": {},
   "source": [
    "## 8) File I/O\n",
    "Read and write text files using context managers (`with`)."
   ]
  },
  {
   "cell_type": "code",
   "execution_count": null,
   "id": "c044f30b",
   "metadata": {},
   "outputs": [],
   "source": [
    "text_path = \"example.txt\"\n",
    "with open(text_path, \"w\", encoding=\"utf-8\") as f:\n",
    "    f.write(\"first line\\nsecond line\\n\")\n",
    "\n",
    "with open(text_path, \"r\", encoding=\"utf-8\") as f:\n",
    "    content = f.read()\n",
    "content"
   ]
  },
  {
   "cell_type": "markdown",
   "id": "b9296d67",
   "metadata": {},
   "source": [
    "## 9) Modules & Packages\n",
    "Use the standard library or third‑party packages (installed via `pip` or `conda`)."
   ]
  },
  {
   "cell_type": "code",
   "execution_count": null,
   "id": "dcb74a4f",
   "metadata": {},
   "outputs": [],
   "source": [
    "import math\n",
    "values = [0, math.pi/6, math.pi/4, math.pi/2]\n",
    "[math.sin(v) for v in values]"
   ]
  },
  {
   "cell_type": "markdown",
   "id": "a514bc38",
   "metadata": {},
   "source": [
    "## 10) Bonus: List Comprehensions & Lambda\n",
    "Pythonic ways to transform collections and create small anonymous functions."
   ]
  },
  {
   "cell_type": "code",
   "execution_count": null,
   "id": "7b64980b",
   "metadata": {},
   "outputs": [],
   "source": [
    "# list comprehension\n",
    "nums = list(range(10))\n",
    "doubles = [n*2 for n in nums]\n",
    "\n",
    "# condition in comprehension\n",
    "evens = [n for n in nums if n % 2 == 0]\n",
    "\n",
    "# lambda + sorted by last letter\n",
    "names = [\"Tom\", \"Ada\", \"Grace\", \"Alan\"]\n",
    "sorted_names = sorted(names, key=lambda s: s[-1])\n",
    "doubles, evens, sorted_names"
   ]
  },
  {
   "cell_type": "markdown",
   "id": "9a1b881d",
   "metadata": {},
   "source": [
    "## Practice Exercises\n",
    "Try these in new cells below each prompt.\n",
    "\n",
    "1. **Temperature Converter**: Write a function `to_celsius(f)` that converts Fahrenheit to Celsius and test it on 32, 68, and 212.\n",
    "2. **Word Count**: Given a string `text`, return a dict mapping each word to its count (case‑insensitive). Hint: `split()`, `lower()`, and a dict.\n",
    "3. **FizzBuzz**: For numbers from 1 to 30, print `Fizz` if divisible by 3, `Buzz` if divisible by 5, `FizzBuzz` if both, else the number.\n",
    "4. **Unique Letters**: From an input string, return the set of unique letters (ignore spaces and punctuation).\n",
    "5. **Top Score**: Given a list of student score dicts like `[{\"name\": \"A\", \"score\": 88}, ...]`, return the name with the highest score."
   ]
  },
  {
   "cell_type": "markdown",
   "id": "d1f13804",
   "metadata": {},
   "source": [
    "---\n",
    "### Appendix: Tips for Jupyter\n",
    "- **Shift+Enter** to run, **Esc** then **A/B** to insert cells above/below, **M/Y** to toggle Markdown/Code.\n",
    "- Restart kernel via the menu if things act weird.\n",
    "- Save your work often.\n",
    "\n",
    "Notebook generated: 2025-08-18 17:02:07 UTC"
   ]
  }
 ],
 "metadata": {
  "kernelspec": {
   "display_name": "Python 3 (ipykernel)",
   "language": "python",
   "name": "python3"
  },
  "language_info": {
   "codemirror_mode": {
    "name": "ipython",
    "version": 3
   },
   "file_extension": ".py",
   "mimetype": "text/x-python",
   "name": "python",
   "nbconvert_exporter": "python",
   "pygments_lexer": "ipython3",
   "version": "3.9.12"
  }
 },
 "nbformat": 4,
 "nbformat_minor": 5
}
