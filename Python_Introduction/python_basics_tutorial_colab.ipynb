{
  "cells": [
    {
      "cell_type": "markdown",
      "id": "5ff3ea9b",
      "metadata": {
        "id": "5ff3ea9b"
      },
      "source": [
        "# Python Basics: A Hands‑On Tutorial (Jupyter Notebook)\n",
        "\n",
        "*A compact, practice-first Python intro inspired by the core topics from the video linked in your request.*\n",
        "\n",
        "> Tip: Run a cell with **Shift+Enter**. Edit any cell and re-run to experiment."
      ]
    },
    {
      "cell_type": "markdown",
      "id": "82aa4e31",
      "metadata": {
        "id": "82aa4e31"
      },
      "source": [
        "## 1) Hello, Python\n",
        "\n",
        "The classic first program is printing a message."
      ]
    },
    {
      "cell_type": "code",
      "execution_count": null,
      "id": "9db759cc",
      "metadata": {
        "id": "9db759cc",
        "outputId": "1ac0a2d4-797c-4316-bc2f-79703e13a476"
      },
      "outputs": [
        {
          "name": "stdout",
          "output_type": "stream",
          "text": [
            "Hello, world!\n"
          ]
        }
      ],
      "source": [
        "print(\"Hello, world!\")"
      ]
    },
    {
      "cell_type": "markdown",
      "id": "5233538e",
      "metadata": {
        "id": "5233538e"
      },
      "source": [
        "### Variables & Basic Types\n",
        "Python variables are created by assignment. Types are dynamic (no need to declare).\n",
        "\n",
        "Common types:\n",
        "\n",
        "- int:     integers (whole numbers, positive or negative)\n",
        "\n",
        "- float:   floating point numbers (decimals) 64-bit double precision  \n",
        "\n",
        "\n",
        "- complex: complex numbers with real and imaginary parts\n",
        "\n",
        "- str:     strings (text enclosed in quotes)\n",
        "\n",
        "- bool:    boolean type, logical values (True/False)\n",
        "\n",
        "Note: C or C++ have different float types\n",
        "\n",
        "              float (32-bit, single precision)\n",
        "              double (64-bit, double precision)\n",
        "              long double (extened precision, depends on complier/architecture)"
      ]
    },
    {
      "cell_type": "code",
      "execution_count": 1,
      "id": "0fc9abf4",
      "metadata": {
        "id": "0fc9abf4",
        "outputId": "442118b6-34af-48b1-992a-ea717704812c",
        "colab": {
          "base_uri": "https://localhost:8080/"
        }
      },
      "outputs": [
        {
          "output_type": "stream",
          "name": "stdout",
          "text": [
            "<class 'str'> <class 'int'> <class 'float'> <class 'bool'>\n"
          ]
        }
      ],
      "source": [
        "name = \"Ada\"\n",
        "age = 31\n",
        "height_m = 1.70\n",
        "is_engineer = True\n",
        "\n",
        "print(type(name), type(age), type(height_m), type(is_engineer))"
      ]
    },
    {
      "cell_type": "code",
      "source": [
        "import sys\n",
        "print(sys.float_info)"
      ],
      "metadata": {
        "id": "TpQgRwjn6q7u",
        "outputId": "486d34a6-0929-44ec-a09c-6b5e1f78cbf7",
        "colab": {
          "base_uri": "https://localhost:8080/"
        }
      },
      "id": "TpQgRwjn6q7u",
      "execution_count": 2,
      "outputs": [
        {
          "output_type": "stream",
          "name": "stdout",
          "text": [
            "sys.float_info(max=1.7976931348623157e+308, max_exp=1024, max_10_exp=308, min=2.2250738585072014e-308, min_exp=-1021, min_10_exp=-307, dig=15, mant_dig=53, epsilon=2.220446049250313e-16, radix=2, rounds=1)\n"
          ]
        }
      ]
    },
    {
      "cell_type": "markdown",
      "id": "d8eeaee8",
      "metadata": {
        "id": "d8eeaee8"
      },
      "source": [
        "### Type Conversion\n",
        "Convert between types with constructors: `int()`, `float()`, `str()`, `bool()`."
      ]
    },
    {
      "cell_type": "code",
      "execution_count": 8,
      "id": "8dc0a9c0",
      "metadata": {
        "colab": {
          "base_uri": "https://localhost:8080/"
        },
        "id": "8dc0a9c0",
        "outputId": "ef633966-39cc-424a-ec06-11fd9433738f"
      },
      "outputs": [
        {
          "output_type": "stream",
          "name": "stdout",
          "text": [
            "3.14159 3.14159 3\n",
            "<class 'str'> <class 'float'> <class 'int'>\n",
            "3.99 3\n",
            "3.99 <class 'float'>\n"
          ]
        },
        {
          "output_type": "execute_result",
          "data": {
            "text/plain": [
              "(12.56636, '12.56636')"
            ]
          },
          "metadata": {},
          "execution_count": 8
        }
      ],
      "source": [
        "# Try converting string to float and integer\n",
        "pi_str = \"3.14159\"\n",
        "pi_f = float(pi_str)\n",
        "pi_i = int(pi)\n",
        "\n",
        "print(pi_str, pi_f, pi_i)\n",
        "print(type(pi_str), type(pi_f), type(pi_i))\n",
        "\n",
        "\n",
        "# Converting to integer always rounds off\n",
        "pi_f = 3.99\n",
        "pi_i = int(pi_f)\n",
        "print(pi_f, pi_i)\n",
        "\n",
        "# Reassign pi_i to the float value (pi_f) again\n",
        "# (Note: this is not renaming, just assigning a new value)\n",
        "\n",
        "pi_i = pi_f\n",
        "print(pi_i, type(pi_i))\n",
        "\n",
        "# Calculate the area of a circle with radius 2\n",
        "radius = 2\n",
        "area = pi * radius ** 2\n",
        "area_str = str(area)\n",
        "area, area_str\n",
        "#\"The area of a circle with radius \" + str(radius) + \" is \" + area_str + \".\""
      ]
    },
    {
      "cell_type": "markdown",
      "id": "2ad5e144",
      "metadata": {
        "id": "2ad5e144"
      },
      "source": [
        "## 2) Strings\n",
        "Work with text using `str`. Common operations include slicing and methods."
      ]
    },
    {
      "cell_type": "code",
      "execution_count": 16,
      "id": "db80b721",
      "metadata": {
        "colab": {
          "base_uri": "https://localhost:8080/"
        },
        "id": "db80b721",
        "outputId": "faecd337-bee2-4e3b-f23e-c72fdee0fcfd"
      },
      "outputs": [
        {
          "output_type": "stream",
          "name": "stdout",
          "text": [
            "CP&E701 \n",
            "CP&E701 MAKES ME HAPPY\n",
            "cp&e701 makes me happy\n",
            "CP&E701 makes me productive\n",
            "words: ['CP&E701', 'makes', 'me', 'happy']\n",
            "['Python', 'makes', 'me', 'happy']\n",
            "Learning CP&E701 is fun!\n",
            "Pi is approximately 3.14\n"
          ]
        }
      ],
      "source": [
        "# Define a string\n",
        "s = \"CP&E701 makes me happy\"\n",
        "\n",
        "# Slice: take characters from index 0 up to (but not including) 8\n",
        "print(s[:8])\n",
        "\n",
        "# Convert the string to all upper/lower case letters\n",
        "print(s.upper())\n",
        "print(s.lower())\n",
        "\n",
        "# Replace a word (\"happy\") with another (\"productive\")\n",
        "# -> \"Python makes me productive\"\n",
        "print(s.replace(\"happy\", \"productive\"))\n",
        "\n",
        "# Split the string into a list of words (by default split on spaces)\n",
        "# -> [\"Python\", \"makes\", \"me\", \"happy\"]\n",
        "print(\"words:\", s.split())\n",
        "\n",
        "s2 = \"Python<makes<me<happy\"\n",
        "print(s2.split(\"<\"))\n",
        "\n",
        "# f-string formatting: insert variables directly into a string\n",
        "thing = \"CP&E701\"\n",
        "why = \"fun\"\n",
        "print(f\"Learning {thing} is {why}!\")\n",
        "\n",
        "pi = 3.14159\n",
        "print(f\"Pi is approximately {pi:.2f}\")"
      ]
    },
    {
      "cell_type": "markdown",
      "id": "8b179dda",
      "metadata": {
        "id": "8b179dda"
      },
      "source": [
        "## 3) Numbers & Operators\n",
        "- Arithmetic: `+ - * / // % **`\n",
        "- Comparisons: `== != < <= > >=`\n",
        "- Logical: `and or not`"
      ]
    },
    {
      "cell_type": "code",
      "execution_count": 21,
      "id": "3cdb4923",
      "metadata": {
        "id": "3cdb4923",
        "outputId": "168a31e7-788d-4da8-d15d-89a0f0b32568",
        "colab": {
          "base_uri": "https://localhost:8080/"
        }
      },
      "outputs": [
        {
          "output_type": "stream",
          "name": "stdout",
          "text": [
            "good\n",
            "add: 10\n",
            "sub: 4\n",
            "mult: 21\n",
            "div: 2.3333333333333335\n",
            "floor div: 2\n",
            "floor div: -3\n",
            "mod: 1\n",
            "power: 343\n",
            "compare: True False\n",
            "logic: True\n"
          ]
        }
      ],
      "source": [
        "a = 7\n",
        "b = 3\n",
        "\n",
        "#a, b ,c = 7, 3, \"good\"\n",
        "\n",
        "# Arithmetic operators\n",
        "print(\"add:\", a + b)        # addition -> 10\n",
        "print(\"sub:\", a - b)        # subtraction -> 4\n",
        "print(\"mult:\", a * b)       # multiplication -> 21\n",
        "print(\"div:\", a / b)        # true division -> 2.333...\n",
        "print(\"floor div:\", a // b) # floor division (rounds down) -> 2\n",
        "print(\"floor div:\", -a // b) # floor division (rounds down) -> 2\n",
        "print(\"mod:\", a % b)        # modulus (remainder) -> 1\n",
        "print(\"power:\", a ** b)     # exponentiation (7^3) -> 343\n",
        "\n",
        "# Comparison operators\n",
        "print(\"compare:\", a > b, a == b)\n",
        "# a > b -> True (7 > 3)\n",
        "# a == b -> False (7 is not equal to 3)\n",
        "\n",
        "# Logical operators\n",
        "print(\"logic:\", (a > 0) and (b > 0))\n",
        "# (a > 0) -> True, (b > 0) -> True\n",
        "# True and True -> True\n"
      ]
    },
    {
      "cell_type": "code",
      "source": [],
      "metadata": {
        "id": "lHw7RRnJAqVp"
      },
      "id": "lHw7RRnJAqVp",
      "execution_count": null,
      "outputs": []
    },
    {
      "cell_type": "markdown",
      "id": "9b123ce2",
      "metadata": {
        "id": "9b123ce2"
      },
      "source": [
        "## 4) Collections: Lists, Tuples, Sets, Dicts\n",
        "- **List**: ordered, mutable\n",
        "- **Tuple**: ordered, immutable\n",
        "- **Set**: unordered, unique items\n",
        "- **Dict**: key → value mapping"
      ]
    },
    {
      "cell_type": "code",
      "execution_count": null,
      "id": "dae53a33",
      "metadata": {
        "id": "dae53a33"
      },
      "outputs": [],
      "source": [
        "# List\n",
        "nums = [10, 20, 30]\n",
        "nums.append(40)\n",
        "nums[1] = 22\n",
        "nums, len(nums), nums[-1]\n"
      ]
    },
    {
      "cell_type": "code",
      "execution_count": null,
      "id": "4fbc827f",
      "metadata": {
        "id": "4fbc827f"
      },
      "outputs": [],
      "source": [
        "# Tuple (immutable)\n",
        "pt = (3, 4)\n",
        "x, y = pt  # unpacking\n",
        "x, y"
      ]
    },
    {
      "cell_type": "code",
      "execution_count": null,
      "id": "a6c893b9",
      "metadata": {
        "id": "a6c893b9"
      },
      "outputs": [],
      "source": [
        "# Set (unique elements)\n",
        "a = {1, 2, 3}\n",
        "b = {3, 4, 5}\n",
        "a.union(b), a.intersection(b), a - b"
      ]
    },
    {
      "cell_type": "code",
      "execution_count": null,
      "id": "25a09165",
      "metadata": {
        "id": "25a09165"
      },
      "outputs": [],
      "source": [
        "# Dict (mapping)\n",
        "person = {\"name\": \"Ada\", \"age\": 31}\n",
        "person[\"city\"] = \"London\"\n",
        "list(person.items())"
      ]
    },
    {
      "cell_type": "markdown",
      "id": "21fcc563",
      "metadata": {
        "id": "21fcc563"
      },
      "source": [
        "## 5) Control Flow: `if`, `for`, `while`\n",
        "Use conditions and loops to control execution."
      ]
    },
    {
      "cell_type": "code",
      "execution_count": null,
      "id": "b1c7ae5c",
      "metadata": {
        "id": "b1c7ae5c"
      },
      "outputs": [],
      "source": [
        "temperature = 28\n",
        "if temperature > 30:\n",
        "    status = \"hot\"\n",
        "elif temperature >= 20:\n",
        "    status = \"pleasant\"\n",
        "else:\n",
        "    status = \"cool\"\n",
        "status"
      ]
    },
    {
      "cell_type": "code",
      "execution_count": null,
      "id": "663ac6ec",
      "metadata": {
        "id": "663ac6ec"
      },
      "outputs": [],
      "source": [
        "# for-loop\n",
        "squares = []\n",
        "for n in range(5):\n",
        "    squares.append(n*n)\n",
        "squares"
      ]
    },
    {
      "cell_type": "code",
      "execution_count": null,
      "id": "134a2ad9",
      "metadata": {
        "id": "134a2ad9"
      },
      "outputs": [],
      "source": [
        "# while-loop with break/continue\n",
        "n = 0\n",
        "evens_under_10 = []\n",
        "while True:\n",
        "    n += 1\n",
        "    if n % 2 != 0:\n",
        "        continue\n",
        "    evens_under_10.append(n)\n",
        "    if n >= 10:\n",
        "        break\n",
        "evens_under_10"
      ]
    },
    {
      "cell_type": "markdown",
      "id": "f1ef1dce",
      "metadata": {
        "id": "f1ef1dce"
      },
      "source": [
        "## 6) Functions\n",
        "Wrap reusable logic in functions. Use docstrings to explain behavior."
      ]
    },
    {
      "cell_type": "code",
      "execution_count": null,
      "id": "eb438b96",
      "metadata": {
        "id": "eb438b96"
      },
      "outputs": [],
      "source": [
        "def greet(name: str = \"world\") -> str:\n",
        "    \"\"\"Return a friendly greeting.\"\"\"\n",
        "    return f\"Hello, {name}!\"\n",
        "\n",
        "greet(), greet(\"Yiling\")"
      ]
    },
    {
      "cell_type": "code",
      "execution_count": null,
      "id": "b5544bba",
      "metadata": {
        "id": "b5544bba"
      },
      "outputs": [],
      "source": [
        "def factorial(n: int) -> int:\n",
        "    \"\"\"Compute n! for n >= 0.\"\"\"\n",
        "    if n < 0:\n",
        "        raise ValueError(\"n must be non-negative\")\n",
        "    result = 1\n",
        "    for k in range(2, n+1):\n",
        "        result *= k\n",
        "    return result\n",
        "\n",
        "[factorial(k) for k in range(6)]"
      ]
    },
    {
      "cell_type": "markdown",
      "id": "1d56e5c7",
      "metadata": {
        "id": "1d56e5c7"
      },
      "source": [
        "## 7) Exceptions (Try/Except)\n",
        "Handle errors gracefully instead of crashing the program."
      ]
    },
    {
      "cell_type": "code",
      "execution_count": null,
      "id": "7f6593b8",
      "metadata": {
        "id": "7f6593b8"
      },
      "outputs": [],
      "source": [
        "def safe_divide(a, b):\n",
        "    try:\n",
        "        return a / b\n",
        "    except ZeroDivisionError:\n",
        "        return float('inf')  # or handle another way\n",
        "\n",
        "safe_divide(10, 2), safe_divide(5, 0)"
      ]
    },
    {
      "cell_type": "markdown",
      "id": "03e98654",
      "metadata": {
        "id": "03e98654"
      },
      "source": [
        "## 8) File I/O\n",
        "Read and write text files using context managers (`with`)."
      ]
    },
    {
      "cell_type": "code",
      "execution_count": null,
      "id": "c044f30b",
      "metadata": {
        "id": "c044f30b"
      },
      "outputs": [],
      "source": [
        "text_path = \"example.txt\"\n",
        "with open(text_path, \"w\", encoding=\"utf-8\") as f:\n",
        "    f.write(\"first line\\nsecond line\\n\")\n",
        "\n",
        "with open(text_path, \"r\", encoding=\"utf-8\") as f:\n",
        "    content = f.read()\n",
        "content"
      ]
    },
    {
      "cell_type": "markdown",
      "id": "b9296d67",
      "metadata": {
        "id": "b9296d67"
      },
      "source": [
        "## 9) Modules & Packages\n",
        "Use the standard library or third‑party packages (installed via `pip` or `conda`)."
      ]
    },
    {
      "cell_type": "code",
      "execution_count": null,
      "id": "dcb74a4f",
      "metadata": {
        "id": "dcb74a4f"
      },
      "outputs": [],
      "source": [
        "import math\n",
        "values = [0, math.pi/6, math.pi/4, math.pi/2]\n",
        "[math.sin(v) for v in values]"
      ]
    },
    {
      "cell_type": "markdown",
      "id": "a514bc38",
      "metadata": {
        "id": "a514bc38"
      },
      "source": [
        "## 10) Bonus: List Comprehensions & Lambda\n",
        "Pythonic ways to transform collections and create small anonymous functions."
      ]
    },
    {
      "cell_type": "code",
      "execution_count": null,
      "id": "7b64980b",
      "metadata": {
        "id": "7b64980b"
      },
      "outputs": [],
      "source": [
        "# list comprehension\n",
        "nums = list(range(10))\n",
        "doubles = [n*2 for n in nums]\n",
        "\n",
        "# condition in comprehension\n",
        "evens = [n for n in nums if n % 2 == 0]\n",
        "\n",
        "# lambda + sorted by last letter\n",
        "names = [\"Tom\", \"Ada\", \"Grace\", \"Alan\"]\n",
        "sorted_names = sorted(names, key=lambda s: s[-1])\n",
        "doubles, evens, sorted_names"
      ]
    },
    {
      "cell_type": "markdown",
      "id": "d1f13804",
      "metadata": {
        "id": "d1f13804"
      },
      "source": [
        "---\n",
        "### Appendix: Tips for Jupyter\n",
        "- **Shift+Enter** to run, **Esc** then **A/B** to insert cells above/below, **M/Y** to toggle Markdown/Code.\n",
        "- Restart kernel via the menu if things act weird.\n",
        "- Save your work often.\n"
      ]
    }
  ],
  "metadata": {
    "kernelspec": {
      "display_name": "Python 3 (ipykernel)",
      "language": "python",
      "name": "python3"
    },
    "language_info": {
      "codemirror_mode": {
        "name": "ipython",
        "version": 3
      },
      "file_extension": ".py",
      "mimetype": "text/x-python",
      "name": "python",
      "nbconvert_exporter": "python",
      "pygments_lexer": "ipython3",
      "version": "3.9.12"
    },
    "colab": {
      "provenance": []
    }
  },
  "nbformat": 4,
  "nbformat_minor": 5
}