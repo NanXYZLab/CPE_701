{
  "cells": [
    {
      "cell_type": "markdown",
      "metadata": {
        "id": "58dsWbJdpt-0"
      },
      "source": [
        "# Python Data Analysis Tutorial for Engineers\n",
        "\n",
        "## Goals\n",
        "- Learn NumPy for numerical computing\n",
        "- Learn Pandas for data handling\n",
        "- Learn Matplotlib for visualization\n",
        "\n",
        "---\n",
        "## Setup\n",
        "Install required libraries:\n",
        "```bash\n",
        "pip install numpy pandas matplotlib\n",
        "```\n",
        "---"
      ]
    },
    {
      "cell_type": "markdown",
      "metadata": {
        "id": "_4JTYwYxpt-1"
      },
      "source": [
        "## 1. NumPy Basics\n",
        "Key concepts:\n",
        "- Arrays vs Lists\n",
        "- Array creation (`np.array`, `np.arange`, `np.linspace`)\n",
        "- Indexing, slicing\n",
        "- Vectorized operations\n",
        "- Aggregations (`mean`, `sum`, `std`)\n"
      ]
    },
    {
      "cell_type": "code",
      "source": [
        "# Basic usage of range for list\n",
        "numbers = list(range(5))\n",
        "print(numbers)\n",
        "\n",
        "\n",
        "# From 2 up to (but not including) 8\n",
        "numbers = list(range(2, 8))\n",
        "print(numbers)\n",
        "\n",
        "# Even numbers from 0 to 10\n",
        "numbers = list(range(0, 11, 2))\n",
        "print(numbers)\n",
        "\n",
        "# Iterating over a list\n",
        "fruits = [\"apple\", \"banana\", \"cherry\"]\n",
        "\n",
        "for i in range(len(fruits)):\n",
        "    print(i, fruits[i])\n",
        "\n",
        "for i, fruit in enumerate(fruits):\n",
        "    print(i, fruit)"
      ],
      "metadata": {
        "id": "XeXk7kvkwQ2d"
      },
      "execution_count": null,
      "outputs": []
    },
    {
      "cell_type": "code",
      "execution_count": null,
      "metadata": {
        "id": "Fdqk3Raopt-1"
      },
      "outputs": [],
      "source": [
        "# List: Need a loop. Slower for math-heavy operations (loops are executed in Python).\n",
        "# Array: Much faster — operations run in optimized C code (vectorized), memory storage.\n",
        "\n",
        "import time\n",
        "import numpy as np\n",
        "\n",
        "# Prepare data\n",
        "lst = list(range(10000000))            # Python list with 1 million elements\n",
        "arr = np.array(lst)                    # NumPy array with same elements\n",
        "\n",
        "# Timing list comprehension\n",
        "start = time.time()\n",
        "lst_result = [x*2 for x in lst]\n",
        "end = time.time()\n",
        "#print(f\"List comprehension time: {end - start} seconds\")\n",
        "print(f\"List comprehension time: {end - start:.2f} seconds\")\n",
        "\n",
        "# Timing NumPy vectorized operation\n",
        "start = time.time()\n",
        "arr_result = arr * 2\n",
        "end = time.time()\n",
        "print(f\"Numpy vectorized time: {end - start:.2f} seconds\")"
      ]
    },
    {
      "cell_type": "code",
      "execution_count": null,
      "metadata": {
        "id": "mf6GkaM7pt-2"
      },
      "outputs": [],
      "source": [
        "import numpy as np\n",
        "\n",
        "# np.array\n",
        "a = np.array([1, 2, 3, 4, 5])\n",
        "b = np.array([[1, 2, 3], [4, 5, 6]])\n",
        "\n",
        "print(a)\n",
        "print(b)\n",
        "\n",
        "print(a[0])\n",
        "print(b[:,2])\n",
        "\n",
        "# np.arange\n",
        "arr = np.arange(0, 10, 2)   # from 0 up to (but not including) 10, step 2\n",
        "print(arr)\n",
        "\n",
        "# np.linspace\n",
        "arr = np.linspace(0, 1, 5)   # 5 numbers between 0 and 1\n",
        "print(arr)\n"
      ]
    },
    {
      "cell_type": "code",
      "execution_count": null,
      "metadata": {
        "id": "9WG45oAYpt-2"
      },
      "outputs": [],
      "source": [
        "import numpy as np\n",
        "\n",
        "# Define vectors\n",
        "v1 = np.array([1, 2, 3])\n",
        "v2 = np.array([4, 5, 6])\n",
        "\n",
        "print(\"v1:\", v1)\n",
        "print(\"v2:\", v2)\n",
        "\n",
        "# Vector addition and subtraction\n",
        "print(\"v1 + v2 =\", v1 + v2)\n",
        "print(\"v1 - v2 =\", v1 - v2)\n",
        "\n",
        "# Scalar multiplication\n",
        "print(\"2 * v1 =\", 2 * v1)\n",
        "\n",
        "# Dot product\n",
        "print(\"v1 · v2 =\", np.dot(v1, v2))   # 1*4 + 2*5 + 3*6\n",
        "\n",
        "# Norm (magnitude)\n",
        "print(\"‖v1‖ =\", np.linalg.norm(v1))"
      ]
    },
    {
      "cell_type": "code",
      "execution_count": null,
      "metadata": {
        "id": "obtu-29Upt-2"
      },
      "outputs": [],
      "source": [
        "import numpy as np\n",
        "\n",
        "# 3x3 matrices\n",
        "A = np.array([[1, 2, 3],\n",
        "              [4, 5, 6],\n",
        "              [7, 8, 9]])\n",
        "\n",
        "B = np.array([[9, 8, 7],\n",
        "              [6, 5, 4],\n",
        "              [3, 2, 1]])\n",
        "\n",
        "print(\"Matrix A:\\n\", A)\n",
        "print(\"Matrix B:\\n\", B)\n",
        "\n",
        "# Element-wise operations\n",
        "print(\"A + B:\\n\", A + B)\n",
        "print(\"A * B (element-wise):\\n\", A * B)\n",
        "\n",
        "# Matrix multiplication\n",
        "print(\"A @ B:\\n\", A @ B)\n",
        "\n",
        "# Transpose\n",
        "print(\"A.T:\\n\", A.T)"
      ]
    },
    {
      "cell_type": "code",
      "execution_count": null,
      "metadata": {
        "id": "tbbNl46Spt-2"
      },
      "outputs": [],
      "source": [
        "# 3x2 matrix\n",
        "C = np.array([[1, 2],\n",
        "              [3, 4],\n",
        "              [5, 6]])\n",
        "\n",
        "# 2x3 matrix\n",
        "D = np.array([[7, 8, 9],\n",
        "              [10, 11, 12]])\n",
        "\n",
        "print(\"Matrix C (3x2):\\n\", C)\n",
        "print(\"Matrix D (2x3):\\n\", D)\n",
        "\n",
        "# Matrix multiplication: (3x2) @ (2x3) → (3x3)\n",
        "print(\"C @ D:\\n\", C @ D)\n",
        "\n",
        "# Matrix multiplication: (2x3) @ (3x2) → (2x2)\n",
        "print(\"D @ C:\\n\", D @ C)"
      ]
    },
    {
      "cell_type": "code",
      "execution_count": null,
      "metadata": {
        "id": "tjleaXUUpt-2"
      },
      "outputs": [],
      "source": [
        "import numpy as np\n",
        "\n",
        "a = np.array([1, 2, 3, 4, 5, 6, 7, 8, 9])\n",
        "\n",
        "print(\"Array:\", a)\n",
        "\n",
        "matrix = a.reshape(3, 3)\n",
        "print(\"Matrix:\", matrix)\n",
        "\n",
        "\n",
        "# Basic statistics\n",
        "print(\"Mean:\", np.mean(a))             # average\n",
        "print(\"Standard Deviation:\", np.std(a)) # spread of data\n",
        "print(\"Variance:\", np.var(a))          # std^2\n",
        "\n",
        "# Min and Max\n",
        "print(\"Minimum:\", np.min(a))\n",
        "print(\"Maximum:\", np.max(a))\n",
        "\n",
        "# Percentiles (useful in engineering & data science)\n",
        "print(\"25th percentile (Q1):\", np.percentile(a, 25))\n",
        "print(\"50th percentile (Median):\", np.median(a))\n",
        "print(\"75th percentile (Q3):\", np.percentile(a, 75))\n",
        "\n",
        "# Sum and Product\n",
        "print(\"Sum:\", np.sum(a))\n",
        "print(\"Product:\", np.prod(a))\n",
        "\n",
        "# Cumulative sums and products\n",
        "print(\"Cumulative sum:\", np.cumsum(a))\n",
        "print(\"Cumulative product:\", np.cumprod(a))"
      ]
    },
    {
      "cell_type": "markdown",
      "metadata": {
        "id": "bNZK2sT5pt-2"
      },
      "source": [
        "### Exercise\n",
        "- Create an array of numbers 0–99\n",
        "- Reshape into 10×10 matrix\n",
        "- Compute row sums and column means"
      ]
    },
    {
      "cell_type": "markdown",
      "metadata": {
        "id": "0-q5kTWwpt-2"
      },
      "source": [
        "## 2. Pandas for Data Handling"
      ]
    },
    {
      "cell_type": "code",
      "execution_count": null,
      "metadata": {
        "id": "raYFQ7iJpt-2"
      },
      "outputs": [],
      "source": [
        "import numpy as np\n",
        "import pandas as pd\n",
        "\n",
        "# Create DataFrame\n",
        "data = {\n",
        "    \"Name\": [\"Alice\", \"Bob\", \"Charlie\", \"David\"],\n",
        "    \"Age\": [24, 27, 22, 32],\n",
        "    \"Salary\": [50000, 54000, 58000, 62000],\n",
        "    \"Department\": [\"HR\", \"Engineering\", \"Engineering\", \"HR\"]\n",
        "}\n",
        "df = pd.DataFrame(data)\n",
        "\n",
        "print(\"=== DataFrame ===\")\n",
        "print(df)\n"
      ]
    },
    {
      "cell_type": "code",
      "source": [
        "# ----------------------------\n",
        "# 1. Basic Exploration\n",
        "# ----------------------------\n",
        "print(\"\\n=== First rows ===\")\n",
        "print(df.head())\n",
        "\n",
        "print(\"\\n=== Summary Statistics ===\")\n",
        "print(df.describe())   # numeric stats\n",
        "\n",
        "print(\"\\n=== Info ===\")\n",
        "print(df.info())       # data types + null count"
      ],
      "metadata": {
        "id": "7ZVv9kvUqUim"
      },
      "execution_count": null,
      "outputs": []
    },
    {
      "cell_type": "code",
      "source": [
        "# ----------------------------\n",
        "# 2. Column Selection\n",
        "# ----------------------------\n",
        "print(\"\\n=== Select one column (Series) ===\")\n",
        "print(df[\"Name\"])\n",
        "\n",
        "print(\"\\n=== Select multiple columns ===\")\n",
        "print(df[[\"Name\", \"Salary\"]])\n"
      ],
      "metadata": {
        "id": "6AG2-lFiqa4d"
      },
      "execution_count": null,
      "outputs": []
    },
    {
      "cell_type": "code",
      "source": [
        "# ----------------------------\n",
        "# 3. Filtering rows\n",
        "# ----------------------------\n",
        "print(\"\\n=== Salary > 55,000 ===\")\n",
        "print(df[df[\"Salary\"] > 55000])\n",
        "\n",
        "print(\"\\n=== Age between 25 and 30 ===\")\n",
        "print(df[(df[\"Age\"] >= 25) & (df[\"Age\"] <= 30)])"
      ],
      "metadata": {
        "id": "3JjoyjvFqc6F"
      },
      "execution_count": null,
      "outputs": []
    },
    {
      "cell_type": "code",
      "source": [
        "# ----------------------------\n",
        "# 4. Creating new columns\n",
        "# ----------------------------\n",
        "df[\"Bonus\"] = df[\"Salary\"] * 0.1\n",
        "print(\"\\n=== With Bonus column ===\")\n",
        "print(df)"
      ],
      "metadata": {
        "id": "Dl7X1fCvqgjE"
      },
      "execution_count": null,
      "outputs": []
    },
    {
      "cell_type": "code",
      "source": [
        "# ----------------------------\n",
        "# 5. Sorting\n",
        "# ----------------------------\n",
        "print(\"\\n=== Sorted by Salary descending ===\")\n",
        "print(df.sort_values(by=\"Salary\", ascending=False))"
      ],
      "metadata": {
        "id": "t5YrnciNqjuV"
      },
      "execution_count": null,
      "outputs": []
    },
    {
      "cell_type": "code",
      "source": [
        "\n",
        "# ----------------------------\n",
        "# 6. Grouping and Aggregation\n",
        "# ----------------------------\n",
        "print(\"\\n=== Average Salary by Department ===\")\n",
        "print(df.groupby(\"Department\")[\"Salary\"].mean())\n",
        "\n",
        "print(\"\\n=== Count employees per Department ===\")\n",
        "print(df.groupby(\"Department\")[\"Name\"].count())"
      ],
      "metadata": {
        "id": "VklCUAXFqmKV"
      },
      "execution_count": null,
      "outputs": []
    },
    {
      "cell_type": "code",
      "source": [
        "# ----------------------------\n",
        "# 7. Handling Missing Data\n",
        "# ----------------------------\n",
        "df2 = df.copy()\n",
        "df2.loc[2, \"Salary\"] = None   # introduce a missing value\n",
        "print(\"\\n=== DataFrame with missing value ===\")\n",
        "print(df2)\n",
        "\n",
        "# Fill missing data with average\n",
        "print(\"\\n=== Fill missing Salary with average ===\")\n",
        "df2[\"Salary\"] = df2[\"Salary\"].fillna(df2[\"Salary\"].mean())\n",
        "print(df2)\n",
        "\n",
        "\"\"\"\n",
        "# Drop missing data\n",
        "print(\"\\n=== Drop rows with any missing data ===\")\n",
        "df2 = df2.dropna()\n",
        "print(df2)\n",
        "\n",
        "\"\"\""
      ],
      "metadata": {
        "id": "HLw13mzmqoa1"
      },
      "execution_count": null,
      "outputs": []
    },
    {
      "cell_type": "code",
      "source": [
        "\n",
        "# ----------------------------\n",
        "# 8. Exporting\n",
        "# ----------------------------\n",
        "df.to_csv(\"employees.csv\", index=False)\n",
        "print(\"\\nDataFrame exported to employees.csv\")"
      ],
      "metadata": {
        "id": "gSjQ5iwsqrPt"
      },
      "execution_count": null,
      "outputs": []
    },
    {
      "cell_type": "markdown",
      "metadata": {
        "id": "KeyO70-jpt-2"
      },
      "source": [
        "### Exercise\n",
        "- Load the Iris dataset:\n",
        "```python\n",
        "url = 'https://raw.githubusercontent.com/mwaskom/seaborn-data/master/iris.csv'\n",
        "iris = pd.read_csv(url)\n",
        "```\n",
        "- Find mean of each column\n",
        "- Filter rows where sepal_length > 5"
      ]
    },
    {
      "cell_type": "code",
      "source": [
        "import numpy as np\n",
        "import pandas as pd\n",
        "\n",
        "url = 'https://raw.githubusercontent.com/mwaskom/seaborn-data/master/iris.csv'\n",
        "iris = pd.read_csv(url)\n",
        "print(iris)\n"
      ],
      "metadata": {
        "id": "7mEOdjxY0rqm"
      },
      "execution_count": null,
      "outputs": []
    },
    {
      "cell_type": "markdown",
      "metadata": {
        "id": "wOw6MpMNpt-2"
      },
      "source": [
        "## 3. Visualization with Matplotlib"
      ]
    },
    {
      "cell_type": "code",
      "execution_count": null,
      "metadata": {
        "id": "Os31Mm18pt-2"
      },
      "outputs": [],
      "source": [
        "import numpy as np\n",
        "import matplotlib.pyplot as plt\n",
        "import pandas as pd\n",
        "\n",
        "# Example data for sine plot\n",
        "x = np.linspace(0, 10, 100)\n",
        "y = np.sin(x)\n",
        "\n",
        "plt.plot(x, y, label=\"sin(x)\")\n",
        "plt.title(\"Sine Function\")\n",
        "plt.xlabel(\"x\")\n",
        "plt.ylabel(\"y\")\n",
        "plt.legend()\n",
        "plt.show()\n"
      ]
    },
    {
      "cell_type": "code",
      "source": [
        "# Example DataFrame\n",
        "data = {\n",
        "    \"Name\": [\"Alice\", \"Bob\", \"Charlie\", \"David\"],\n",
        "    \"Age\": [24, 27, 22, 32],\n",
        "    \"Salary\": [50000, 54000, 58000, 62000]\n",
        "}\n",
        "df = pd.DataFrame(data)\n",
        "\n",
        "# Scatter plot\n",
        "plt.scatter(df[\"Age\"], df[\"Salary\"])\n",
        "plt.title(\"Age vs Salary\")\n",
        "plt.xlabel(\"Age\")\n",
        "plt.ylabel(\"Salary\")\n",
        "\n",
        "plt.savefig(\"Age_vs_Salary.png\", dpi=300, bbox_inches=\"tight\")\n",
        "plt.show()"
      ],
      "metadata": {
        "id": "EpAES3abrTIF"
      },
      "execution_count": null,
      "outputs": []
    }
  ],
  "metadata": {
    "kernelspec": {
      "display_name": "Python 3 (ipykernel)",
      "language": "python",
      "name": "python3"
    },
    "language_info": {
      "codemirror_mode": {
        "name": "ipython",
        "version": 3
      },
      "file_extension": ".py",
      "mimetype": "text/x-python",
      "name": "python",
      "nbconvert_exporter": "python",
      "pygments_lexer": "ipython3",
      "version": "3.9.12"
    },
    "colab": {
      "provenance": []
    }
  },
  "nbformat": 4,
  "nbformat_minor": 0
}